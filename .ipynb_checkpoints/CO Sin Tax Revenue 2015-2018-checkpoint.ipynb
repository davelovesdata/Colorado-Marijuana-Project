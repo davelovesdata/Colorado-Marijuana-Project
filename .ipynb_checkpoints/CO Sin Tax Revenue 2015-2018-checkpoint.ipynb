{
 "cells": [
  {
   "cell_type": "code",
   "execution_count": 1,
   "metadata": {
    "_cell_guid": "b1076dfc-b9ad-4769-8c92-a6c4dae69d19",
    "_uuid": "8f2839f25d086af736a60e9eeb907d3b93b6e0e5"
   },
   "outputs": [],
   "source": [
    "# This Python 3 environment comes with many helpful analytics libraries installed\n",
    "# It is defined by the kaggle/python docker image: https://github.com/kaggle/docker-python\n",
    "# For example, here's several helpful packages to load in \n",
    "\n",
    "import numpy as np    # linear algebra\n",
    "import pandas as pd   # data processing, CSV file I/O (e.g. pd.read_csv)\n",
    "\n",
    "import matplotlib.pyplot as plt         #plotting functions\n",
    "import matplotlib.ticker as mtick       #tick locating and formatting\n",
    "\n",
    "%matplotlib inline\n",
    "\n",
    "from datetime import datetime"
   ]
  },
  {
   "cell_type": "markdown",
   "metadata": {},
   "source": [
    "Data was retrieved from:\n",
    "\n",
    "\n",
    "References:\n",
    "https://matplotlib.org/3.1.1/tutorials/introductory/usage.html#sphx-glr-tutorials-introductory-usage-py"
   ]
  },
  {
   "cell_type": "code",
   "execution_count": 2,
   "metadata": {},
   "outputs": [],
   "source": [
    "df = pd.DataFrame({\"Year\": [2015, 2016, 2017, 2018],\n",
    "                  \"Marijuana\": [102395175, 156701018, 223465054, 263766809],\n",
    "                  \"Alcohol\": [42074458, 44116397, 45671281, 46671281],\n",
    "                  \"Tobacco\": [197016599, 201209069, 199998395, 193880659],\n",
    "                  \"Lottery\": [128000000, 143600000, 133500000, 140700000],\n",
    "                  \"Gambling\": [110251037, 116993800, 117217775, 124714406]})"
   ]
  },
  {
   "cell_type": "code",
   "execution_count": 3,
   "metadata": {},
   "outputs": [
    {
     "data": {
      "text/html": [
       "<div>\n",
       "<style scoped>\n",
       "    .dataframe tbody tr th:only-of-type {\n",
       "        vertical-align: middle;\n",
       "    }\n",
       "\n",
       "    .dataframe tbody tr th {\n",
       "        vertical-align: top;\n",
       "    }\n",
       "\n",
       "    .dataframe thead th {\n",
       "        text-align: right;\n",
       "    }\n",
       "</style>\n",
       "<table border=\"1\" class=\"dataframe\">\n",
       "  <thead>\n",
       "    <tr style=\"text-align: right;\">\n",
       "      <th></th>\n",
       "      <th>Year</th>\n",
       "      <th>Marijuana</th>\n",
       "      <th>Alcohol</th>\n",
       "      <th>Tobacco</th>\n",
       "      <th>Lottery</th>\n",
       "      <th>Gambling</th>\n",
       "    </tr>\n",
       "  </thead>\n",
       "  <tbody>\n",
       "    <tr>\n",
       "      <th>0</th>\n",
       "      <td>2015</td>\n",
       "      <td>102395175</td>\n",
       "      <td>42074458</td>\n",
       "      <td>197016599</td>\n",
       "      <td>128000000</td>\n",
       "      <td>110251037</td>\n",
       "    </tr>\n",
       "    <tr>\n",
       "      <th>1</th>\n",
       "      <td>2016</td>\n",
       "      <td>156701018</td>\n",
       "      <td>44116397</td>\n",
       "      <td>201209069</td>\n",
       "      <td>143600000</td>\n",
       "      <td>116993800</td>\n",
       "    </tr>\n",
       "    <tr>\n",
       "      <th>2</th>\n",
       "      <td>2017</td>\n",
       "      <td>223465054</td>\n",
       "      <td>45671281</td>\n",
       "      <td>199998395</td>\n",
       "      <td>133500000</td>\n",
       "      <td>117217775</td>\n",
       "    </tr>\n",
       "    <tr>\n",
       "      <th>3</th>\n",
       "      <td>2018</td>\n",
       "      <td>263766809</td>\n",
       "      <td>46671281</td>\n",
       "      <td>193880659</td>\n",
       "      <td>140700000</td>\n",
       "      <td>124714406</td>\n",
       "    </tr>\n",
       "  </tbody>\n",
       "</table>\n",
       "</div>"
      ],
      "text/plain": [
       "   Year  Marijuana   Alcohol    Tobacco    Lottery   Gambling\n",
       "0  2015  102395175  42074458  197016599  128000000  110251037\n",
       "1  2016  156701018  44116397  201209069  143600000  116993800\n",
       "2  2017  223465054  45671281  199998395  133500000  117217775\n",
       "3  2018  263766809  46671281  193880659  140700000  124714406"
      ]
     },
     "execution_count": 3,
     "metadata": {},
     "output_type": "execute_result"
    }
   ],
   "source": [
    "df"
   ]
  },
  {
   "cell_type": "code",
   "execution_count": 4,
   "metadata": {},
   "outputs": [],
   "source": [
    "#ax = plt.gca()\n",
    "\n",
    "#ax.get_yaxis().get_major_formatter().set_scientific(False)\n",
    "\n",
    "#df.plot(x=\"Year\", y=[\"Marijuana\", \"Alcohol\", \"Tobacco\", \"Lottery\", \"Gambling\"], color=['red', 'orange', 'yellow', 'green', 'blue'])"
   ]
  },
  {
   "cell_type": "code",
   "execution_count": 5,
   "metadata": {},
   "outputs": [
    {
     "data": {
      "image/png": "[encoded data removed]",
      "text/plain": [
       "<Figure size 432x288 with 1 Axes>"
      ]
     },
     "metadata": {},
     "output_type": "display_data"
    }
   ],
   "source": [
    "ax = plt.gca()\n",
    "ax.get_yaxis().get_major_formatter().set_scientific(False)\n",
    "\n",
    "df.plot(kind='line',x='Year',y='Marijuana', color='red', ax=ax)\n",
    "df.plot(kind='line',x='Year',y='Alcohol', color='orange', ax=ax)\n",
    "df.plot(kind='line',x='Year',y='Tobacco', color='yellow', ax=ax)\n",
    "df.plot(kind='line',x='Year',y='Lottery', color='green', ax=ax)\n",
    "df.plot(kind='line',x='Year',y='Gambling', color='blue', ax=ax)\n",
    "\n",
    "plt.title(\"Colorado 'Sin Tax' Revenue 2015-2018\")\n",
    "plt.xlabel(\"Year\")\n",
    "plt.ylabel(\"Dollars\")\n",
    "\n",
    "plt.show()"
   ]
  },
  {
   "cell_type": "code",
   "execution_count": null,
   "metadata": {},
   "outputs": [],
   "source": []
  }
 ],
 "metadata": {
  "kernelspec": {
   "display_name": "Python 3",
   "language": "python",
   "name": "python3"
  },
  "language_info": {
   "codemirror_mode": {
    "name": "ipython",
    "version": 3
   },
   "file_extension": ".py",
   "mimetype": "text/x-python",
   "name": "python",
   "nbconvert_exporter": "python",
   "pygments_lexer": "ipython3",
   "version": "3.6.5"
  }
 },
 "nbformat": 4,
 "nbformat_minor": 2
}
